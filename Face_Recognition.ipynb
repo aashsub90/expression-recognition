{
 "cells": [
  {
   "cell_type": "code",
   "execution_count": null,
   "metadata": {},
   "outputs": [],
   "source": [
    "# Import required libraries\n",
    "import cv2\n",
    "import numpy as np\n",
    "from keras.preprocessing import image as img\n",
    "from keras.models import model_from_yaml\n",
    "import pickle\n",
    "import sys\n",
    "sys.path.insert(0, '/Users/Iris/SJSU/Fall_2018/CMPE_257/Project/Group/repo/expression-recognition/src')\n",
    "print(sys.path)\n",
    "from lib.preprocessing import get_landmarks"
   ]
  },
  {
   "cell_type": "code",
   "execution_count": null,
   "metadata": {},
   "outputs": [],
   "source": [
    "def opencv_init():\n",
    "    '''\n",
    "        Purpose: Creates the classifier and video capture object\n",
    "        Arguements: N/A\n",
    "        Return: classifier and video capture object\n",
    "    '''\n",
    "    face_detector_object = cv2.CascadeClassifier('/Users/Iris/DeveloperTools/anaconda3/envs/expression-recognition/share/OpenCV/haarcascades/haarcascade_frontalface_default.xml')\n",
    "    video_capture_object = cv2.VideoCapture(0)\n",
    "    return (face_detector_object, video_capture_object)"
   ]
  },
  {
   "cell_type": "code",
   "execution_count": null,
   "metadata": {},
   "outputs": [],
   "source": [
    "def opencv_cleanup(cap):\n",
    "    '''\n",
    "        Purpose: Release resource held by opencv\n",
    "        Arguements: OpenCV video object\n",
    "        Return: N/A\n",
    "    '''\n",
    "    cap.release()\n",
    "    cv2.destroyAllWindows()"
   ]
  },
  {
   "cell_type": "code",
   "execution_count": null,
   "metadata": {},
   "outputs": [],
   "source": [
    "def load_model():\n",
    "    '''\n",
    "        Purpose: Load the saved model\n",
    "        Arguements: N/A\n",
    "        Return: Loaded model\n",
    "    '''\n",
    "    '''with open(\"model_cnn.yaml\", \"r\") as yaml_file:\n",
    "        loaded_model_yaml = yaml_file.read()\n",
    "    model = model_from_yaml(loaded_model_yaml)\n",
    "    model.load_weights(\"model_cnn.h5\")\n",
    "    print(\"Loaded model from disk\")\n",
    "    return (model)'''\n",
    "    model = pickle.load(open('/Users/Iris/SJSU/Fall_2018/CMPE_257/Project/Group/repo/expression-recognition/src/model/svm/model_svm.pkl', 'rb'))\n",
    "    #model = pickle.load(open('/Users/Iris/SJSU/Fall_2018/CMPE_257/Project/Group/repo/expression-recognition/src/model/knn/model_knn.pkl', 'rb'))\n",
    "    return(model)"
   ]
  },
  {
   "cell_type": "code",
   "execution_count": null,
   "metadata": {},
   "outputs": [],
   "source": [
    "def emotion_detection(face_detect, video_capture, model):\n",
    "    '''\n",
    "        Purpose: Begin video cature and perform emotion detection of all faces detected\n",
    "        Arguements: face_detect, video_capture and model references\n",
    "        Return: N/A\n",
    "    '''\n",
    "    emotion_classes = {'1_1':'angry', '1_2':'contemptly angry', '1_3':'disgustingly angry','1_4':'fearfully angry','1_5':'happily angry', '1_6':'sadly angry','1_7':'surprsingly angry',  '2_1':'angrily contempt', '2_2':'contempt','2_3':'disgustingly contempt','2_4':'fearfully contempt','2_5':'happily contempt','2_6':'sadly contempt', '2_7':'surprisingly contempt', '3_1':'angrily disgusted','3_2':'contemptly disgusted','3_3':'disgust','3_4':'fearfully disgusted','3_5':'happily disgusted','3_6':'sadly disgusted','3_7':'surprisingly disgusted', '4_1':'angrily fearful', '4_2':'contemptly fearful', '4_3':'disgustigly fearful','4_4':'fearful', '4_5':'happily fearful', '4_6':'sadly fearful', '4_7':'surprisingly fearful','5_1':'angrily happy', '5_2':'contemptly happy', '5_3':'disgustingly happy', '5_4':'fearfully happy','5_5':'happy', '5_6':'sadly happy','5_7':'surprisingly happy','6_1':'angrily sad', '6_2':'contemptly sad', '6_3':'disgustigly sad', '6_4':'fearfully sad', '6_5':'happily sad','6_6':'sad','6_7':'surprisingly sad', '7_1':'angrily surprised', '7_2':'contemptly surprised', '7_3':'disgustingly surprised','7_4':'fearfully surprised', '7_5':'happily surprised', '7_6':'sadly surprised','7_7':'surprised','N_N':'Neutral'}\n",
    "    while(True):\n",
    "        ret, image = video_capture.read()\n",
    "        gray = cv2.cvtColor(image, cv2.COLOR_BGR2GRAY)\n",
    "        faces = face_detect.detectMultiScale(gray, 1.3, 5)\n",
    "\n",
    "        print(\"Detected face positions: {}\".format(faces))\n",
    "\n",
    "        for (x,y,w,h) in faces:\n",
    "            # Create boundary for the recognirzed face\n",
    "            cv2.rectangle(image,(x,y),(x+w,y+h),(255,0,0),2)\n",
    "            # Crop detected faces\n",
    "            detected_face = image[int(y):int(y+h), int(x):int(x+w)]\n",
    "\n",
    "            # Transform the detected face to grayscale\n",
    "            detected_face = cv2.cvtColor(detected_face, cv2.COLOR_BGR2GRAY)\n",
    "            label = \"\"\n",
    "            data = get_landmarks(detected_face)\n",
    "            if data['landmarks_vectorised'] == \"error\":\n",
    "                print(\"Can't detect landmarks.\")\n",
    "            else:\n",
    "                # append image array to training data list\n",
    "                label = model.predict(np.array(data['landmarks_vectorised']).reshape(1,-1))[0]\n",
    "                emotion = emotion_classes[label]\n",
    "                print(emotion)\n",
    "                \n",
    "            # Resize face image to 48x48\n",
    "            #detected_face = cv2.resize(detected_face, (48, 48))\n",
    "\n",
    "            #img_pixels = img.img_to_array(detected_face)\n",
    "            #img_pixels = np.expand_dims(img_pixels, axis = 0)\n",
    "            #img_pixels /= 255 \n",
    "            #img_pixels = np.vstack(img_pixels)\n",
    "            #print(img_pixels.reshape(48,48))\n",
    "            # Obtain predictions for the detected face\n",
    "            #predictions = model.predict(img_pixels.reshape(48,48))\n",
    "            #predictions = model.predict(img_pixels)\n",
    "\n",
    "            # Find index of the maximum value \n",
    "            # Array - 0: angry, 1:disgust, 2:fear, 3:happy, 4:sad, 5:surprise, 6:neutral\n",
    "            #max_index = np.argmax(predictions[0])\n",
    "\n",
    "\n",
    "            # Display the emotion text above rectangle\n",
    "            cv2.putText(image, emotion, (int(x), int(y)), cv2.FONT_HERSHEY_SIMPLEX, 1, (255,255,255), 2)\n",
    "\n",
    "        cv2.imshow('img',image)\n",
    "        \n",
    "        # Break video capture event\n",
    "        if cv2.waitKey(1) & 0xFF == ord('q'):\n",
    "            break"
   ]
  },
  {
   "cell_type": "code",
   "execution_count": null,
   "metadata": {},
   "outputs": [],
   "source": [
    "def main():\n",
    "    # Intialize opencv and obtain face detection and video capture objects\n",
    "    face_detect, video_capture = opencv_init()\n",
    "    \n",
    "    # Load the model \n",
    "    model = load_model()\n",
    "    \n",
    "    # Start video capture and emotion recognition\n",
    "    emotion_detection(face_detect, video_capture, model)\n",
    "    \n",
    "    # Deallocate resources used by OpenCV\n",
    "    opencv_cleanup(video_capture)"
   ]
  },
  {
   "cell_type": "code",
   "execution_count": null,
   "metadata": {},
   "outputs": [],
   "source": [
    "if __name__ == \"__main__\":\n",
    "    main()"
   ]
  }
 ],
 "metadata": {
  "kernelspec": {
   "display_name": "Python 3",
   "language": "python",
   "name": "python3"
  },
  "language_info": {
   "codemirror_mode": {
    "name": "ipython",
    "version": 3
   },
   "file_extension": ".py",
   "mimetype": "text/x-python",
   "name": "python",
   "nbconvert_exporter": "python",
   "pygments_lexer": "ipython3",
   "version": "3.6.7"
  }
 },
 "nbformat": 4,
 "nbformat_minor": 2
}
